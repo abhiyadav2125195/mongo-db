{
 "cells": [
  {
   "cell_type": "markdown",
   "id": "8d8be659-b8c5-4b25-a0bd-37c2746139a9",
   "metadata": {},
   "source": [
    "# Q1. What is MongoDB? Explain non-relational databases in short. In which scenarios it is preferred to use MongoDB over SQL databases?\n"
   ]
  },
  {
   "cell_type": "markdown",
   "id": "5d04f78b-29c1-448b-b4a0-cb8dc56f6be7",
   "metadata": {},
   "source": [
    "## A1. MongoDB is a popular document-oriented NoSQL database management system. It is designed to store, retrieve, and manage unstructured data in a flexible and scalable manner.\n",
    "\n",
    "## Non-relational databases, also known as NoSQL databases, are databases that do not use the traditional tabular relations found in SQL databases. They offer a more flexible data model and are designed to handle large amounts of unstructured or semi-structured data \n",
    "\n",
    "## MongoDB is often preferred over SQL databases in certain scenarios, including:\n",
    "\n",
    "## Flexible and evolving schemas: MongoDB's document model allows for dynamic and evolving schemas, making it suitable for scenarios where the data structure may change frequently.\n",
    "\n",
    "## Scalability: MongoDB is horizontally scalable, meaning it can handle large amounts of data and high traffic loads by distributing data across multiple servers in a cluster. This makes it a good choice for applications with growing data and user base.\n",
    "\n",
    "## High-speed data access: MongoDB's document-oriented model allows for efficient retrieval of data, especially when the data access patterns involve retrieving whole documents or nested data structures.\n",
    "\n",
    "## Agile development: MongoDB's flexibility and schema-less nature make it easier for developers to work with evolving requirements and iterate quickly during the development process.\n",
    "\n"
   ]
  },
  {
   "cell_type": "markdown",
   "id": "9c3f26d0-c183-4f42-9948-5c26ae6c94cf",
   "metadata": {},
   "source": [
    "# Q2. State and Explain the features of MongoDB.\n"
   ]
  },
  {
   "cell_type": "markdown",
   "id": "c85762e6-0da9-43f4-8b6e-5c33db2aebfa",
   "metadata": {},
   "source": [
    "## MongoDB offers several key features that make it a popular choice for building modern applications. Here are some of its main features:\n",
    "\n",
    "## Document-Oriented: MongoDB is a document-oriented database, where data is stored in flexible, JSON-like documents called BSON. Documents can vary in structure, allowing for dynamic schemas and easy representation of complex data.\n",
    "\n",
    "## Scalability and High Performance: MongoDB is designed to handle large amounts of data and high traffic loads. It supports horizontal scaling through sharding, which distributes data across multiple servers or clusters. This enables high throughput and low latency for read and write operations.\n",
    "\n",
    "## Flexible Data Model: MongoDB's schema-less nature allows for flexible and agile development. It accommodates changes in data structures without requiring a predefined schema, making it suitable for evolving applications.\n",
    "\n",
    "## Indexing and Querying: MongoDB provides a powerful query language and supports various types of indexes to optimize data retrieval. It supports ad-hoc queries, range queries, and can index any field within a document.\n",
    "\n",
    "## Replication and High Availability: MongoDB supports replica sets, which are self-healing clusters that provide automatic failover and data redundancy. Replica sets ensure high availability by maintaining multiple copies of data across different servers.\n",
    "\n",
    "## Aggregation Framework: MongoDB's Aggregation Framework allows for advanced data processing and analysis. It provides a set of operators for filtering, grouping, and transforming data, enabling complex analytics operations within the database.\n",
    "\n",
    "## Geospatial Capabilities: MongoDB has built-in support for geospatial data and offers various geospatial indexes and query operators. This makes it well-suited for applications that deal with location-based data, such as mapping and geolocation services.\n",
    "\n",
    "## Full-text Search: MongoDB provides text search capabilities, allowing for efficient and relevant full-text search queries. It supports various search features like text indexing, stemming, language-specific search, and relevance ranking.\n",
    "\n"
   ]
  },
  {
   "cell_type": "markdown",
   "id": "22a5a1bf-7249-4b79-a82e-8965bb56105a",
   "metadata": {},
   "source": [
    "# Q3. Write a code to connect MongoDB to Python. Also, create a database and a collection in MongoDB.\n"
   ]
  },
  {
   "cell_type": "code",
   "execution_count": null,
   "id": "ebd88378-d2c6-4389-8c9e-5d878daf2797",
   "metadata": {},
   "outputs": [],
   "source": [
    "## import pymongo \n",
    "## client = pymongo.MangoClient(copy from mongodb)\n",
    "## db = client.test\n",
    "\n",
    "## db  = client['pwskills']\n",
    "## data = {\"name\" : \"sudh\" , \"class\" : \"data masters\" , \"time\" : \"flexi\"}\n",
    "\n",
    "## coll_pwskills = db[\"my_record\"]"
   ]
  },
  {
   "cell_type": "markdown",
   "id": "f55c23f3-629c-4395-a095-17fc741502f7",
   "metadata": {},
   "source": [
    "# Q4. Using the database and the collection created in question number 3, write a code to insert one record, and insert many records. Use the find() and find_one() methods to print the inserted record.\n"
   ]
  },
  {
   "cell_type": "markdown",
   "id": "a7c812b6-9c43-4adc-b4c8-d28dba60dd5c",
   "metadata": {},
   "source": [
    "## coll_pwskills.insert_one(data)\n",
    "\n",
    "## data2 = [data = {\"name\" : \"sudh\" , \"class\" : \"data masters\" , \"time\" : \"flexi\"}\n",
    "## data = {\"name\" : \"sudh\" , \"class\" : \"data masters\" , \"time\" : \"flexi\"}\n",
    "## data = {\"name\" : \"sudh\" , \"class\" : \"data masters\" , \"time\" : \"flexi\"}\n",
    "## data = {\"name\" : \"sudh\" , \"class\" : \"data masters\" , \"time\" : \"flexi\"}\n",
    "## data = {\"name\" : \"sudh\" , \"class\" : \"data masters\" , \"time\" : \"flexi\"}\n",
    "## data = {\"name\" : \"sudh\" , \"class\" : \"data masters\" , \"time\" : \"flexi\"}]\n",
    "\n",
    "## coll_pwskills.insert_many(data1)\n",
    "\n",
    "## coll_pwskills.find_one()\n",
    "\n",
    "## coll_pwskills.find()\n",
    "\n",
    "\n"
   ]
  },
  {
   "cell_type": "markdown",
   "id": "c71f17b8-82ce-4e44-8813-378573a9d595",
   "metadata": {},
   "source": [
    "# Q5. Explain how you can use the find() method to query the MongoDB database. Write a simple code to demonstrate this.\n"
   ]
  },
  {
   "cell_type": "markdown",
   "id": "e29f8582-34c5-47f0-8808-0601437f2309",
   "metadata": {},
   "source": [
    "## In MongoDB, the find() method is used to query the database and retrieve documents that match specified criteria. It allows you to perform various types of queries and apply filters to retrieve specific data from a collection.\n",
    "\n",
    "coll_pwskills.find({n})"
   ]
  },
  {
   "cell_type": "markdown",
   "id": "39306686-0df0-47d8-8cb4-cdfda114aef9",
   "metadata": {
    "tags": []
   },
   "source": [
    "# Q6. Explain the sort() method. Give an example to demonstrate sorting in MongoDB.\n"
   ]
  },
  {
   "cell_type": "markdown",
   "id": "045bfd38-88fe-4555-82ae-02fed332dc65",
   "metadata": {},
   "source": [
    "## In MongoDB, the sort() method is used to sort the documents in a collection based on one or more fields. It allows you to specify the sorting order as ascending or descending for each field.\n",
    "\n",
    "## Here's an example to demonstrate sorting in MongoDB:\n",
    "\n",
    "## Consider a collection called \"students\" with the following documents:\n",
    "\n",
    "\n",
    "## [\n",
    "##   { \"_id\": 1, \"name\": \"John\", \"age\": 20 },\n",
    "##   { \"_id\": 2, \"name\": \"Alice\", \"age\": 22 },\n",
    "##   { \"_id\": 3, \"name\": \"Bob\", \"age\": 18 }\n",
    "## ]\n",
    "## To sort the documents in ascending order based on the \"name\" field, you can use the following query:\n",
    "\n",
    "\n",
    "## db.students.find().sort({ \"name\": 1 })\n",
    "## This query will return the sorted documents:\n",
    "\n",
    "\n",
    "## [\n",
    "##   { \"_id\": 2, \"name\": \"Alice\", \"age\": 22 },\n",
    "##   { \"_id\": 3, \"name\": \"Bob\", \"age\": 18 },\n",
    "##   { \"_id\": 1, \"name\": \"John\", \"age\": 20 }\n",
    "##]\n",
    "## To sort the documents in descending order based on the \"age\" field, you can use the following query:\n",
    "\n",
    "\n",
    "## db.students.find().sort({ \"age\": -1 })\n",
    "## This query will return the sorted documents:\n",
    "\n",
    "\n",
    "## [\n",
    "##   { \"_id\": 2, \"name\": \"Alice\", \"age\": 22 },\n",
    "##   { \"_id\": 1, \"name\": \"John\", \"age\": 20 },\n",
    "##   { \"_id\": 3, \"name\": \"Bob\", \"age\": 18 }\n",
    "## ]\n",
    "## You can also sort based on multiple fields by including multiple key-value pairs in the sort() argument. The documents will be sorted first by the first field, and if there are ties, they will be further sorted by the subsequent fields.\n",
    "\n",
    "## For example, to sort by \"name\" in ascending order and then by \"age\" in descending order, you can use:\n",
    "\n",
    "\n",
    "## db.students.find().sort({ \"name\": 1, \"age\": -1 })\n",
    "## This will return the sorted documents:\n",
    "\n",
    "\n",
    "## [\n",
    "##   { \"_id\": 2, \"name\": \"Alice\", \"age\": 22 },\n",
    "##   { \"_id\": 3, \"name\": \"Bob\", \"age\": 18 },\n",
    "##   { \"_id\": 1, \"name\": \"John\", \"age\": 20 }\n",
    "## ]"
   ]
  },
  {
   "cell_type": "markdown",
   "id": "e92d42a3-ff05-4950-8e1d-6872ec424fa8",
   "metadata": {},
   "source": [
    "# Q7. Explain why delete_one(), delete_many(), and drop() is used."
   ]
  },
  {
   "cell_type": "markdown",
   "id": "8af42242-dc05-47b2-b901-b1f87b6f0c08",
   "metadata": {},
   "source": [
    "##  delete_one(filter):\n",
    "## The delete_one() method is used to delete a single document that matches a specified filter. It takes a filter parameter that defines the criteria for selecting the document(s) to be deleted. If multiple documents match the filter, it deletes only the first matching document that it encounters.\n",
    "## Example usage:\n",
    "\n",
    "## json\n",
    "## db.collection.delete_one({ \"name\": \"John\" })\n",
    "## This will delete the first document in the collection where the \"name\" field is \"John\".\n",
    "\n",
    "## delete_many(filter):\n",
    "## The delete_many() method is used to delete multiple documents that match a specified filter. It works similarly to delete_one(), but it deletes all the documents that match the filter.\n",
    "## Example usage:\n",
    "\n",
    "## bash\n",
    "## db.collection.delete_many({ \"age\": { \"$gt\": 30 } })\n",
    "## This will delete all the documents in the collection where the \"age\" field is greater than 30.\n",
    "\n",
    "## drop():\n",
    "## The drop() method is used to completely remove an entire collection from the database. Unlike the delete_one() and delete_many() methods, drop() is not used to delete specific documents but to delete the entire collection itself. This operation is irreversible, and all the data within the collection will be permanently deleted.\n",
    "## Example usage:\n",
    "\n",
    "## scss\n",
    "## db.collection.drop()\n",
    "## This will delete the entire collection named \"collection\"."
   ]
  },
  {
   "cell_type": "code",
   "execution_count": null,
   "id": "7024e0e0-2d9e-4921-8289-4b2178bbf612",
   "metadata": {},
   "outputs": [],
   "source": []
  }
 ],
 "metadata": {
  "kernelspec": {
   "display_name": "Python 3 (ipykernel)",
   "language": "python",
   "name": "python3"
  },
  "language_info": {
   "codemirror_mode": {
    "name": "ipython",
    "version": 3
   },
   "file_extension": ".py",
   "mimetype": "text/x-python",
   "name": "python",
   "nbconvert_exporter": "python",
   "pygments_lexer": "ipython3",
   "version": "3.10.8"
  }
 },
 "nbformat": 4,
 "nbformat_minor": 5
}
